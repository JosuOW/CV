{
 "cells": [
  {
   "cell_type": "code",
   "execution_count": 1,
   "id": "9623bfbe",
   "metadata": {
    "tags": []
   },
   "outputs": [],
   "source": [
    "def dfs(nodo, grafo, searched, componentR):\n",
    "    \n",
    "    componentR.append(nodo)  # ir agregando los nodos que pertenecen al componente conectado\n",
    "    searched[nodo] = True  # marcar al nodo como visitado\n",
    "    print(searched)\n",
    "    print('Vecinos de', nodo, ':', grafo[nodo]) #qué vecinos tiene el nodo\n",
    "    \n",
    "    # Recorrer los nodos adyacentes del nodo dado\n",
    "    for vecino in grafo[nodo]:\n",
    "        if not searched[vecino]:  # verificar que el nodo adyacente no está marcado como searched\n",
    "            dfs(vecino, grafo, searched, componentR)  # llamada recursiva DFS\n",
    "            print('Finaliza', vecino)\n",
    "            print('Vuelve a', nodo)\n",
    "            print()\n"
   ]
  },
  {
   "cell_type": "code",
   "execution_count": 2,
   "id": "5054abf4",
   "metadata": {},
   "outputs": [
    {
     "name": "stdout",
     "output_type": "stream",
     "text": [
      "[False, False, False, False, False, False, False, False, False]\n",
      "[False, True, False, False, False, False, False, False, False]\n",
      "Vecinos de 1 : [2, 3]\n",
      "[False, True, True, False, False, False, False, False, False]\n",
      "Vecinos de 2 : [1, 3, 4, 5]\n",
      "[False, True, True, True, False, False, False, False, False]\n",
      "Vecinos de 3 : [1, 2, 5, 7, 8]\n",
      "[False, True, True, True, False, True, False, False, False]\n",
      "Vecinos de 5 : [2, 3, 4, 6]\n",
      "[False, True, True, True, True, True, False, False, False]\n",
      "Vecinos de 4 : [2, 5]\n",
      "Finaliza 4\n",
      "Vuelve a 5\n",
      "\n",
      "[False, True, True, True, True, True, True, False, False]\n",
      "Vecinos de 6 : [5]\n",
      "Finaliza 6\n",
      "Vuelve a 5\n",
      "\n",
      "Finaliza 5\n",
      "Vuelve a 3\n",
      "\n",
      "[False, True, True, True, True, True, True, True, False]\n",
      "Vecinos de 7 : [3, 8]\n",
      "[False, True, True, True, True, True, True, True, True]\n",
      "Vecinos de 8 : [3, 7]\n",
      "Finaliza 8\n",
      "Vuelve a 7\n",
      "\n",
      "Finaliza 7\n",
      "Vuelve a 3\n",
      "\n",
      "Finaliza 3\n",
      "Vuelve a 2\n",
      "\n",
      "Finaliza 2\n",
      "Vuelve a 1\n",
      "\n",
      "La búsqueda DFS es: [1, 2, 3, 5, 4, 6, 7, 8]\n"
     ]
    }
   ],
   "source": [
    "grafo = {\n",
    "        0: [],\n",
    "        1: [2, 3],\n",
    "        2: [1, 3, 4, 5],\n",
    "        3: [1, 2, 5, 7, 8],\n",
    "        4: [2, 5],\n",
    "        5: [2, 3, 4, 6],\n",
    "        6: [5],\n",
    "        7: [3, 8],\n",
    "        8: [3, 7]\n",
    "}\n",
    "\n",
    "nodoS = 1  # nodo start\n",
    "\n",
    "searched = [False]*len(grafo)  # al iniciar ningún nodo del grafo ha sido visitado\n",
    "print(searched)\n",
    "componentR = [] #\n",
    "\n",
    "dfs(nodoS, grafo, searched, componentR)  # dado el nodo start, aplicar DFS\n",
    "print(f\"La búsqueda DFS es: {componentR}\")  # Nodos que pertenecen al componente conectado que contiene s"
   ]
  },
  {
   "cell_type": "code",
   "execution_count": 3,
   "id": "399a81ec",
   "metadata": {
    "tags": []
   },
   "outputs": [
    {
     "name": "stdout",
     "output_type": "stream",
     "text": [
      "[False, False, False, False, False]\n",
      "[True, False, False, False, False]\n",
      "Vecinos de 0 : [2]\n",
      "[True, False, True, False, False]\n",
      "Vecinos de 2 : [0, 1, 4]\n",
      "[True, True, True, False, False]\n",
      "Vecinos de 1 : [2, 3]\n",
      "[True, True, True, True, False]\n",
      "Vecinos de 3 : [1, 4]\n",
      "[True, True, True, True, True]\n",
      "Vecinos de 4 : [2, 3]\n",
      "Finaliza 4\n",
      "Vuelve a 3\n",
      "\n",
      "Finaliza 3\n",
      "Vuelve a 1\n",
      "\n",
      "Finaliza 1\n",
      "Vuelve a 2\n",
      "\n",
      "Finaliza 2\n",
      "Vuelve a 0\n",
      "\n",
      "La búsqueda DFS es: [0, 2, 1, 3, 4]\n"
     ]
    }
   ],
   "source": [
    "grafo = {\n",
    "        0: [2],\n",
    "        1: [2, 3],\n",
    "        2: [0, 1, 4],\n",
    "        3: [1, 4],\n",
    "        4: [2, 3]\n",
    "}\n",
    "\n",
    "nodoS = 0  # nodo start\n",
    "\n",
    "searched = [False]*len(grafo)  # al iniciar ningún nodo del grafo ha sido visitado\n",
    "print(searched)\n",
    "componentR = [] #\n",
    "\n",
    "dfs(nodoS, grafo, searched, componentR)  # dado el nodo start, aplicar DFS\n",
    "print(f\"La búsqueda DFS es: {componentR}\")  # Nodos que pertenecen al componente conectado que contiene 0"
   ]
  },
  {
   "cell_type": "code",
   "execution_count": 9,
   "id": "44cb19dc-549c-4696-8acf-c59d385a29b7",
   "metadata": {
    "tags": []
   },
   "outputs": [],
   "source": [
    "grafo2 = {\n",
    "        0: [2],\n",
    "        1: [2, 3],\n",
    "        2: [0, 1, 4],\n",
    "        3: [1, 4],\n",
    "        4: [2, 3]\n",
    "}\n",
    "nodoS = 0  # nodo start"
   ]
  },
  {
   "cell_type": "markdown",
   "id": "ed5a16b0-3cc4-4abe-a356-977ca6f9f4ce",
   "metadata": {},
   "source": [
    "## clase Miercoles 13"
   ]
  },
  {
   "cell_type": "code",
   "execution_count": 40,
   "id": "1a25ce31-f699-4089-91a7-31ff4559e4a2",
   "metadata": {
    "tags": []
   },
   "outputs": [],
   "source": [
    "grafo = {\n",
    "        0: [1,2,3],\n",
    "        1: [4,5],\n",
    "        2: [5],\n",
    "        3: [],\n",
    "        4: [],\n",
    "    5:[6,3],\n",
    "    6:[]\n",
    "}\n",
    "nodoS = 0  # nodo start"
   ]
  },
  {
   "cell_type": "code",
   "execution_count": 85,
   "id": "40f3cd42-3272-4afc-aeae-6eb583ba4046",
   "metadata": {
    "tags": []
   },
   "outputs": [
    {
     "name": "stdout",
     "output_type": "stream",
     "text": [
      "[False, False, False, False, False, False, False]\n",
      "[True, False, False, False, False, False, False]\n",
      "Vecinos de 0 : [1, 2, 3]\n",
      "[True, True, False, False, False, False, False]\n",
      "Vecinos de 1 : [4, 5]\n",
      "[True, True, False, False, True, False, False]\n",
      "Vecinos de 4 : []\n",
      "Finaliza 4\n",
      "Vuelve a 1\n",
      "\n",
      "[True, True, False, False, True, True, False]\n",
      "Vecinos de 5 : [6, 3]\n",
      "[True, True, False, False, True, True, True]\n",
      "Vecinos de 6 : []\n",
      "Finaliza 6\n",
      "Vuelve a 5\n",
      "\n",
      "[True, True, False, True, True, True, True]\n",
      "Vecinos de 3 : []\n",
      "Finaliza 3\n",
      "Vuelve a 5\n",
      "\n",
      "Finaliza 5\n",
      "Vuelve a 1\n",
      "\n",
      "Finaliza 1\n",
      "Vuelve a 0\n",
      "\n",
      "[True, True, True, True, True, True, True]\n",
      "Vecinos de 2 : [5]\n",
      "Finaliza 2\n",
      "Vuelve a 0\n",
      "\n",
      "La búsqueda DFS es: [0, 1, 4, 5, 6, 3, 2] \n",
      " De \n",
      "0 1 2 3 4 5 6 \n",
      " Los padres son: [None, 0, 0, 5, 1, 1, 5]\n"
     ]
    },
    {
     "name": "stdin",
     "output_type": "stream",
     "text": [
      "Ingrese el nodo a buscar:  5\n"
     ]
    },
    {
     "name": "stdout",
     "output_type": "stream",
     "text": [
      "\n",
      " La ruta es:\n",
      "[1, 5]\n",
      "[0, 5, 1]\n"
     ]
    },
    {
     "data": {
      "text/plain": [
       "[0, 5, 1]"
      ]
     },
     "execution_count": 85,
     "metadata": {},
     "output_type": "execute_result"
    }
   ],
   "source": [
    "\n",
    "global searched\n",
    "searched = [False]*len(grafo)  # al iniciar ningún nodo del grafo ha sido visitado\n",
    "print(searched)\n",
    "global componentR\n",
    "componentR = [] #\n",
    "global parent\n",
    "parent  = [None]*len(grafo)\n",
    "dfs(nodoS, grafo)  # dado el nodo start, aplicar DFS\n",
    "print(f\"La búsqueda DFS es: {componentR} \\n De \")\n",
    "for nodo in grafo:\n",
    "  print(nodo, end=\" \")\n",
    "\n",
    "\n",
    "print(f\"\\n Los padres son: {parent}\")  # Nodos que pertenecen al componente conectado que contiene 0\n",
    "nodoF=int(input(\"Ingrese el nodo a buscar: \"))\n",
    "print(f\"\\n La ruta es:\")  \n",
    "path( nodoF, parent)"
   ]
  },
  {
   "cell_type": "code",
   "execution_count": 42,
   "id": "55ca709c-78d9-45c2-84da-bf56398fcf22",
   "metadata": {
    "tags": []
   },
   "outputs": [],
   "source": [
    "def dfs(nodo, grafo):\n",
    "    \n",
    "    componentR.append(nodo)  # ir agregando los nodos que pertenecen al componente conectado\n",
    "    searched[nodo] = True  # marcar al nodo como visitado\n",
    "    \n",
    "    print(searched)\n",
    "    print('Vecinos de', nodo, ':', grafo[nodo]) #qué vecinos tiene el nodo\n",
    "    # Recorrer los nodos adyacentes del nodo dado\n",
    "    for vecino in grafo[nodo]:\n",
    "         if not searched[vecino]:  # verificar que el nodo adyacente no está marcado como searched\n",
    "            if parent[vecino] == None:\n",
    "                parent[vecino] = nodo\n",
    "                dfs(vecino, grafo)  # llamada recursiva DFS\n",
    "                print('Finaliza', vecino)\n",
    "                print('Vuelve a', nodo)\n",
    "                print()\n"
   ]
  },
  {
   "cell_type": "code",
   "execution_count": 67,
   "id": "63b5a06c-c186-4696-a4ea-4095d493f1bf",
   "metadata": {
    "tags": []
   },
   "outputs": [],
   "source": [
    "global ruta\n",
    "ruta = []"
   ]
  },
  {
   "cell_type": "code",
   "execution_count": 84,
   "id": "8238821b-0f25-4224-ae53-7bb0d866c716",
   "metadata": {
    "tags": []
   },
   "outputs": [],
   "source": [
    "def path( nodoF, parent):\n",
    "    ruta = [nodoF]\n",
    "    while nodoF!=0:\n",
    "        nodoF=parent[nodoF]\n",
    "        ruta.append(nodoF)\n",
    "        ruta.reverse()\n",
    "        print(ruta)\n",
    "    return ruta"
   ]
  },
  {
   "cell_type": "code",
   "execution_count": null,
   "id": "7ae3dc28-833c-440c-9049-740daf21cb99",
   "metadata": {},
   "outputs": [],
   "source": []
  },
  {
   "cell_type": "markdown",
   "id": "ed5f9b5f-d60b-4100-885e-c175b462173f",
   "metadata": {},
   "source": [
    "<h2>Definición grafo</h2>"
   ]
  },
  {
   "cell_type": "code",
   "execution_count": 4,
   "id": "4cd95b33-3076-497a-a114-66ce1eace344",
   "metadata": {
    "tags": []
   },
   "outputs": [],
   "source": [
    "graph2={}\n",
    "graph2[0] = [2, 1, 5]\n",
    "graph2[1]=[0,2]\n",
    "graph2[2]=[0,1,3,4]\n",
    "graph2[3]=[5,4,2]\n",
    "graph2[4]=[3,2]\n",
    "graph2[5]=[3,0]\n",
    "\n",
    "nodoS=0"
   ]
  },
  {
   "cell_type": "code",
   "execution_count": 8,
   "id": "2f17c9a7-c3fe-4d15-a458-23e808ee9ca2",
   "metadata": {
    "tags": []
   },
   "outputs": [
    {
     "data": {
      "text/plain": [
       "{0: [2, 1, 5], 1: [0, 2], 2: [0, 1, 3, 4], 3: [5, 4, 2], 4: [3, 2], 5: [3, 0]}"
      ]
     },
     "execution_count": 8,
     "metadata": {},
     "output_type": "execute_result"
    }
   ],
   "source": [
    "graph2"
   ]
  },
  {
   "cell_type": "code",
   "execution_count": 5,
   "id": "fed090af-c2f0-43a0-a691-fb5091bca072",
   "metadata": {
    "tags": []
   },
   "outputs": [
    {
     "name": "stdout",
     "output_type": "stream",
     "text": [
      "[False, False, False, False, False, False]\n"
     ]
    }
   ],
   "source": [
    "\n",
    "global searched\n",
    "searched = [False]*len(graph2)  # al iniciar ningún nodo del grafo ha sido visitado\n",
    "print(searched)\n",
    "global componentR\n",
    "componentR = [] #\n",
    "global parent\n",
    "parent  = [None]*len(graph2)\n"
   ]
  },
  {
   "cell_type": "markdown",
   "id": "d164c999-8918-46fd-9fbc-0f7e0c1a5499",
   "metadata": {},
   "source": [
    "### Generación Árbol DFS"
   ]
  },
  {
   "cell_type": "markdown",
   "id": "f18c7d8a-87c8-4d32-a770-d98cb1e2a2f4",
   "metadata": {},
   "source": [
    "#### Recursivo"
   ]
  },
  {
   "cell_type": "code",
   "execution_count": 6,
   "id": "c2ec3d4c-f9a8-41dc-b13b-ec3876b10a47",
   "metadata": {
    "tags": []
   },
   "outputs": [],
   "source": [
    "def dfs(nodo, grafo):\n",
    "    \n",
    "    componentR.append(nodo)  # ir agregando los nodos que pertenecen al componente conectado\n",
    "    searched[nodo] = True  # marcar al nodo como visitado\n",
    "    \n",
    "    print(searched)\n",
    "    print('Vecinos de', nodo, ':', grafo[nodo]) #qué vecinos tiene el nodo\n",
    "    # Recorrer los nodos adyacentes del nodo dado\n",
    "    for vecino in grafo[nodo]:\n",
    "         if not searched[vecino]:  # verificar que el nodo adyacente no está marcado como searched\n",
    "            if parent[vecino] == None:\n",
    "                parent[vecino] = nodo\n",
    "                dfs(vecino, grafo)  # llamada recursiva DFS\n",
    "                print('Finaliza', vecino)\n",
    "                print('Vuelve a', nodo)\n",
    "                print()"
   ]
  },
  {
   "cell_type": "markdown",
   "id": "dca212d9-2eda-474e-b5fd-847eb7e6ce83",
   "metadata": {},
   "source": [
    "#### Ruta"
   ]
  },
  {
   "cell_type": "code",
   "execution_count": 12,
   "id": "6ef82dcc-4d6a-49c5-affd-c401ca885f93",
   "metadata": {
    "tags": []
   },
   "outputs": [],
   "source": [
    "global ruta\n",
    "ruta = []"
   ]
  },
  {
   "cell_type": "code",
   "execution_count": 8,
   "id": "0f1213dc-54d4-4543-bc89-94e708d7204e",
   "metadata": {
    "tags": []
   },
   "outputs": [],
   "source": [
    "def path( nodoF, parent):\n",
    "    ruta = [nodoF]\n",
    "    while nodoF!=0:\n",
    "        nodoF=parent[nodoF]\n",
    "        ruta.append(nodoF)\n",
    "        ruta.reverse()\n",
    "        print(ruta)\n",
    "    return ruta"
   ]
  },
  {
   "cell_type": "markdown",
   "id": "c056d3be-5959-4cce-91ae-39fb537aab7d",
   "metadata": {},
   "source": [
    "### Resultados"
   ]
  },
  {
   "cell_type": "code",
   "execution_count": 9,
   "id": "d035f219-991a-45b1-844f-a66ad55c37cc",
   "metadata": {
    "tags": []
   },
   "outputs": [
    {
     "name": "stdout",
     "output_type": "stream",
     "text": [
      "[True, True, True, True, True, True]\n",
      "Vecinos de 0 : [2, 1, 5]\n",
      "La búsqueda DFS es: [0, 2, 1, 3, 5, 4, 0] \n",
      " De \n",
      "0 1 2 3 4 5 \n",
      " Los padres son: [None, 2, 0, 2, 3, 3]\n",
      "Ingrese el nodo a buscar: 4\n",
      "\n",
      " La ruta es:\n",
      "[3, 4]\n",
      "[2, 4, 3]\n",
      "[0, 3, 4, 2]\n"
     ]
    },
    {
     "data": {
      "text/plain": [
       "[0, 3, 4, 2]"
      ]
     },
     "execution_count": 9,
     "metadata": {},
     "output_type": "execute_result"
    }
   ],
   "source": [
    "dfs(nodoS, graph2)  # dado el nodo start, aplicar DFS\n",
    "print(f\"La búsqueda DFS es: {componentR} \\n De \")\n",
    "for nodo in graph2:\n",
    "  print(nodo, end=\" \")\n",
    "\n",
    "\n",
    "print(f\"\\n Los padres son: {parent}\")  # Nodos que pertenecen al componente conectado que contiene 0\n",
    "nodoF=int(input(\"Ingrese el nodo a buscar: \"))\n",
    "print(f\"\\n La ruta es:\")  \n",
    "path( nodoF, parent)"
   ]
  },
  {
   "cell_type": "markdown",
   "id": "55c59231-2ebe-4339-ae3f-0ee0cd9f834d",
   "metadata": {},
   "source": [
    "<H1>Clase lunes 18/12/2023</H1>"
   ]
  },
  {
   "cell_type": "code",
   "execution_count": 30,
   "id": "f279dd76-beef-4fd4-ba76-209e93ff57ca",
   "metadata": {
    "tags": []
   },
   "outputs": [
    {
     "ename": "IndentationError",
     "evalue": "unexpected indent (1097794591.py, line 15)",
     "output_type": "error",
     "traceback": [
      "\u001b[1;36m  Cell \u001b[1;32mIn[30], line 15\u001b[1;36m\u001b[0m\n\u001b[1;33m    print('Nodo para usarse',nodo)\u001b[0m\n\u001b[1;37m    ^\u001b[0m\n\u001b[1;31mIndentationError\u001b[0m\u001b[1;31m:\u001b[0m unexpected indent\n"
     ]
    }
   ],
   "source": [
    "def topological_sort(grafo):\n",
    "    top_sorted = [] #Guarda resultado final\n",
    "    ready = []   #almacena nodos cuyo indegree 0\n",
    "    incount = [] # actualiza indegree de cada nodo\n",
    "    \n",
    "    for nodo in grafo.keys(): # por cada nod que pertenece al grafo\n",
    "        incount[nodo] = indegree(grafo,nodo) #extraer el indegreee del nodo (num de predecesores)\n",
    "        if incount[nodo]== 0: #nodo sin predecesores puede usarse\n",
    "            ready.append(nodo)\n",
    "    print('Indegree',incount)\n",
    "    print('READY',ready)\n",
    "\n",
    "    while len(ready) > 0: #mientras haya nodos listos para ordenarse\n",
    "        nodo=ready.pop() #pop elimina y retorna el valor del final de la lista \n",
    "              print('Nodo para usarse',nodo)\n",
    "              top_sorted.append(nodo) #nodo es insertado en orden topológico al final de la lista\n",
    "                for vecino in grafo[nodo]:\n",
    "                    print (vecino,': ', incount[vecino],'-1')\n",
    "                    incount[vecino]-= 1 # queda 1 predecesor menos\n",
    "                    if incount[veconp]==0:\n",
    "                    ready.append(vecino)\n",
    "                print('READY:',ready)\n",
    "    return top_sorted\n",
    "          \n",
    "          \n",
    "\n",
    "    "
   ]
  },
  {
   "cell_type": "code",
   "execution_count": null,
   "id": "0c68713a-25fc-47a5-948d-d8394453dd4e",
   "metadata": {},
   "outputs": [],
   "source": [
    "#función indegree( compara un valor dentro del diccionario si esta, colocar 1 )\n",
    "def indegree(grafo,nodo):\n",
    " global searched\n",
    " searched = [False]*len(grafo)  # al iniciar ningún nodo del grafo ha sido visitado\n",
    " print(searched)  \n"
   ]
  },
  {
   "cell_type": "code",
   "execution_count": 6,
   "id": "04eeb046",
   "metadata": {},
   "outputs": [
    {
     "name": "stdout",
     "output_type": "stream",
     "text": [
      "Iteración:\n",
      "Parents: {'A': 'S', 'B': 'A', 'C': 'S', 'D': 'C', 'F': None}\n",
      "Costs: {'A': 16, 'B': inf, 'C': 4, 'D': 7, 'F': inf}\n",
      "-------------------\n",
      "Iteración:\n",
      "Parents: {'A': 'D', 'B': 'A', 'C': 'S', 'D': 'C', 'F': 'D'}\n",
      "Costs: {'A': 14, 'B': inf, 'C': 4, 'D': 7, 'F': 8}\n",
      "-------------------\n",
      "Iteración:\n",
      "Parents: {'A': 'F', 'B': 'F', 'C': 'S', 'D': 'C', 'F': 'D'}\n",
      "Costs: {'A': 13, 'B': 14, 'C': 4, 'D': 7, 'F': 8}\n",
      "-------------------\n",
      "Iteración:\n",
      "Parents: {'A': 'F', 'B': 'F', 'C': 'S', 'D': 'C', 'F': 'D'}\n",
      "Costs: {'A': 13, 'B': 14, 'C': 4, 'D': 7, 'F': 8}\n",
      "-------------------\n",
      "Iteración:\n",
      "Parents: {'A': 'F', 'B': 'F', 'C': 'S', 'D': 'C', 'F': 'D'}\n",
      "Costs: {'A': 13, 'B': 14, 'C': 4, 'D': 7, 'F': 8}\n",
      "-------------------\n",
      "Ruta más corta: ['S', 'C', 'D', 'F']\n",
      "Costo: 8\n"
     ]
    }
   ],
   "source": [
    "graph={}\n",
    "graph['S'] = {'A':16,'D':8,'C':4}\n",
    "graph['A'] = {'B':2}\n",
    "graph['D'] = {'A':7,'F':1}\n",
    "graph['C'] = {'D':3}\n",
    "graph['B'] = {}\n",
    "graph['F'] = {'A':5,'B':6}\n",
    "\n",
    "#Tablas de costo\n",
    "infinito=float('inf')\n",
    "costs={}\n",
    "costs['A']=16\n",
    "costs['B']=infinito\n",
    "costs['C']=4\n",
    "costs['D']=8\n",
    "costs['F']=infinito\n",
    "\n",
    "#Tabla de parents\n",
    "parents={}\n",
    "parents['A']='S'\n",
    "parents['B']='A'\n",
    "parents['C']='S'\n",
    "parents['D']='S'\n",
    "parents['F']=None\n",
    " #Estructura que almacena nodos procesados\n",
    "processed=[]\n",
    "\n",
    "#Algoritmo Dijkstra\n",
    "def find_lowest_cost_node(costs):\n",
    "    lowest_cost=float(\"inf\")\n",
    "    lowest_cost_node=None\n",
    "    for node in costs:\n",
    "        cost = costs[node]\n",
    "        if cost < lowest_cost and node not in processed:\n",
    "            lowest_cost=cost\n",
    "            lowest_cost_node=node\n",
    "    return lowest_cost_node\n",
    "\n",
    "\n",
    "node = find_lowest_cost_node(costs)\n",
    "while node is not None:\n",
    "    cost = costs[node]\n",
    "    neighbors = graph[node]\n",
    "    for n in neighbors.keys():\n",
    "        new_cost = cost + neighbors[n]\n",
    "        if costs[n] > new_cost:\n",
    "            costs[n] = new_cost\n",
    "            parents[n] = node\n",
    "    processed.append(node)\n",
    "    print(\"Iteración:\")\n",
    "    print(\"Parents:\", parents)\n",
    "    print(\"Costs:\", costs)\n",
    "    print(\"-------------------\")\n",
    "    node = find_lowest_cost_node(costs)\n",
    "\n",
    "# Obtener la ruta más corta y el costo\n",
    "path = []\n",
    "current_node = 'F'\n",
    "\n",
    "while current_node is not None:\n",
    "    path.insert(0, current_node)\n",
    "    if current_node in parents:\n",
    "        current_node = parents[current_node]\n",
    "    else:\n",
    "        break  # Salir del bucle si no hay padre asignado\n",
    "\n",
    "if path and path[0] == 'S':\n",
    "    print(\"Ruta más corta:\", path)\n",
    "    print(\"Costo:\", costs['F'])\n",
    "else:\n",
    "    print(\"No hay ruta desde 'S' a 'F'.\")\n"
   ]
  },
  {
   "cell_type": "code",
   "execution_count": null,
   "id": "b76a25b0",
   "metadata": {},
   "outputs": [],
   "source": []
  }
 ],
 "metadata": {
  "kernelspec": {
   "display_name": "Python 3 (ipykernel)",
   "language": "python",
   "name": "python3"
  },
  "language_info": {
   "codemirror_mode": {
    "name": "ipython",
    "version": 3
   },
   "file_extension": ".py",
   "mimetype": "text/x-python",
   "name": "python",
   "nbconvert_exporter": "python",
   "pygments_lexer": "ipython3",
   "version": "3.11.5"
  }
 },
 "nbformat": 4,
 "nbformat_minor": 5
}
