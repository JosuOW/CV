{
 "cells": [
  {
   "cell_type": "code",
   "execution_count": 1,
   "id": "5f651f0e-b4c2-4424-b089-7f20092220c6",
   "metadata": {
    "tags": []
   },
   "outputs": [],
   "source": [
    "def fin_boyer_moore2(T, P):\n",
    "    n, m = len(T), len(P)\n",
    "    posiciones = []  # Arreglo para almacenar las posiciones iniciales de coincidencias completas\n",
    "    \n",
    "    if m == 0:\n",
    "        return 0\n",
    "\n",
    "    last = {}\n",
    "    \n",
    "    for k in range(m):\n",
    "        last[P[k]] = k\n",
    "        \n",
    "    i = m - 1\n",
    "    k = m - 1\n",
    "    \n",
    "    \n",
    "    while i < n:\n",
    "        if T[i] == P[k]:\n",
    "            if k == 0:\n",
    "                posiciones.append(i)  # Almacena la posición de coincidencia completa\n",
    "            else:\n",
    "                i -= 1\n",
    "                k -= 1\n",
    "        else:\n",
    "            j = last.get(T[i], -1)\n",
    "            i += m - min(k, j + 1)\n",
    "            k = m - 1\n",
    "    \n",
    "    if posiciones:\n",
    "        print('\\nÍndice/s en el que se encuentra el patrón:', posiciones)\n",
    "    else:\n",
    "        print('\\nPatrón no se encuentra en el texto')"
   ]
  },
  {
   "cell_type": "code",
   "execution_count": null,
   "id": "4fc63eeb-3a1d-4229-b71a-d20ebc7334d2",
   "metadata": {
    "tags": []
   },
   "outputs": [],
   "source": [
    "texto = \"ababcababcabc\"\n",
    "patron = \"abc\"\n",
    "fin_boyer_moore2(texto, patron)"
   ]
  },
  {
   "cell_type": "code",
   "execution_count": null,
   "id": "583941be-af0e-4114-a48f-afb8293c454c",
   "metadata": {},
   "outputs": [],
   "source": []
  }
 ],
 "metadata": {
  "kernelspec": {
   "display_name": "Python 3 (ipykernel)",
   "language": "python",
   "name": "python3"
  },
  "language_info": {
   "codemirror_mode": {
    "name": "ipython",
    "version": 3
   },
   "file_extension": ".py",
   "mimetype": "text/x-python",
   "name": "python",
   "nbconvert_exporter": "python",
   "pygments_lexer": "ipython3",
   "version": "3.11.5"
  }
 },
 "nbformat": 4,
 "nbformat_minor": 5
}
