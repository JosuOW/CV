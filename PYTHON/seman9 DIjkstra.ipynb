{
 "cells": [
  {
   "cell_type": "markdown",
   "id": "ff0ada13",
   "metadata": {},
   "source": [
    "<h2>Definición grafo</h2>"
   ]
  },
  {
   "cell_type": "code",
   "execution_count": 10,
   "id": "dad04e25",
   "metadata": {},
   "outputs": [],
   "source": [
    "graph2={}\n",
    "graph2[0] = {2:0.26,4:0.38}\n",
    "graph2[1] = {3:0.29}\n",
    "graph2[2] = {7:0.34}\n",
    "graph2[3] = {6:0.52}\n",
    "graph2[4] = {5:0.35,7:0.37}\n",
    "graph2[5] = {1:0.32,4:0.35,7:0.28}\n",
    "graph2[6] = {0:0.58,2:0.40,4:0.93}\n",
    "graph2[7] = {3:0.39,5:0.28}"
   ]
  },
  {
   "cell_type": "code",
   "execution_count": 11,
   "id": "467f3f69",
   "metadata": {},
   "outputs": [
    {
     "data": {
      "text/plain": [
       "{0: {2: 0.26, 4: 0.38},\n",
       " 1: {3: 0.29},\n",
       " 2: {7: 0.34},\n",
       " 3: {6: 0.52},\n",
       " 4: {5: 0.35, 7: 0.37},\n",
       " 5: {1: 0.32, 4: 0.35, 7: 0.28},\n",
       " 6: {0: 0.58, 2: 0.4, 4: 0.93},\n",
       " 7: {3: 0.39, 5: 0.28}}"
      ]
     },
     "execution_count": 11,
     "metadata": {},
     "output_type": "execute_result"
    }
   ],
   "source": [
    "graph2"
   ]
  },
  {
   "cell_type": "code",
   "execution_count": 6,
   "id": "ab02e52d",
   "metadata": {},
   "outputs": [],
   "source": [
    "graph={}\n",
    "graph['S'] = {'A':16,'D':8,'C':4}\n",
    "graph['A'] = {'B':2}\n",
    "graph['D'] = {'A':7,'F':1}\n",
    "graph['C'] = {'D':3}\n",
    "graph['B'] = {}\n",
    "graph['F'] = {'A':5,'B':6}"
   ]
  },
  {
   "cell_type": "code",
   "execution_count": 7,
   "id": "8b8fb6a9",
   "metadata": {},
   "outputs": [
    {
     "data": {
      "text/plain": [
       "{'S': {'A': 16, 'D': 8, 'C': 4},\n",
       " 'A': {'B': 2},\n",
       " 'D': {'A': 7, 'F': 1},\n",
       " 'C': {'D': 3},\n",
       " 'B': {},\n",
       " 'F': {'A': 5, 'B': 6}}"
      ]
     },
     "execution_count": 7,
     "metadata": {},
     "output_type": "execute_result"
    }
   ],
   "source": [
    "graph"
   ]
  },
  {
   "cell_type": "markdown",
   "id": "add976d2",
   "metadata": {},
   "source": [
    "<H1>Algoritmo de Dijkstra</H1>"
   ]
  },
  {
   "cell_type": "code",
   "execution_count": 3,
   "id": "a468af2e",
   "metadata": {},
   "outputs": [],
   "source": [
    "#Tablas de costo\n",
    "infinito=float('inf')\n",
    "costs={}\n",
    "costs['A']=16\n",
    "costs['B']=infinito\n",
    "costs['C']=4\n",
    "costs['D']=8\n",
    "costs['F']=infinito"
   ]
  },
  {
   "cell_type": "code",
   "execution_count": 14,
   "id": "808df5cb",
   "metadata": {},
   "outputs": [
    {
     "data": {
      "text/plain": [
       "{'A': 16, 'B': inf, 'C': 4, 'D': 8, 'F': inf}"
      ]
     },
     "execution_count": 14,
     "metadata": {},
     "output_type": "execute_result"
    }
   ],
   "source": [
    "costs"
   ]
  },
  {
   "cell_type": "code",
   "execution_count": 4,
   "id": "032b0604",
   "metadata": {},
   "outputs": [],
   "source": [
    "#Tabla de parents\n",
    "parents={}\n",
    "parents['A']='S'\n",
    "parents['B']='A'\n",
    "parents['C']='S'\n",
    "parents['D']='S'\n",
    "parents['F']=None"
   ]
  },
  {
   "cell_type": "code",
   "execution_count": 9,
   "id": "ab1510a7",
   "metadata": {},
   "outputs": [
    {
     "data": {
      "text/plain": [
       "{'A': 'S', 'B': 'A', 'C': 'S', 'D': 'S', 'F': None}"
      ]
     },
     "execution_count": 9,
     "metadata": {},
     "output_type": "execute_result"
    }
   ],
   "source": [
    "parents"
   ]
  },
  {
   "cell_type": "code",
   "execution_count": 17,
   "id": "5d353267",
   "metadata": {},
   "outputs": [],
   "source": [
    "#Estructura que almacena nodos procesados\n",
    "processed=[]"
   ]
  },
  {
   "cell_type": "code",
   "execution_count": 20,
   "id": "26241134",
   "metadata": {},
   "outputs": [],
   "source": [
    "\n",
    "\n",
    "def ruta_barata(graph,start,end):\n",
    "    costs={node:float('inf') for node in graph}\n",
    "    costs[start]=0\n",
    "    parents={node:None for node in graph}\n",
    "    processed=[]\n",
    "    \n",
    "    \n",
    "    #Algoritmo Dijkstra\n",
    "    def find_lowest_cost_node(costs):\n",
    "        lowest_cost=float(\"inf\")\n",
    "        lowest_cost_node=None\n",
    "        for node in costs:\n",
    "            cost = costs[node]\n",
    "            if cost < lowest_cost and node not in processed:\n",
    "                lowest_cost=cost\n",
    "                lowest_cost_node=node\n",
    "        return lowest_cost_node\n",
    "\n",
    "\n",
    "    node = find_lowest_cost_node(costs)\n",
    "    while node is not None:\n",
    "        cost = costs[node]\n",
    "        neighbors = graph[node]\n",
    "        for n in neighbors.keys():\n",
    "            new_cost = cost + neighbors[n]\n",
    "            if costs[n] > new_cost:\n",
    "                costs[n] = new_cost\n",
    "                parents[n] = node\n",
    "        processed.append(node)\n",
    "        print(\"Iteración:\")\n",
    "        print(\"Parents:\", parents)\n",
    "        print(\"Costs:\", costs)\n",
    "        print(\"-------------------\")\n",
    "        node = find_lowest_cost_node(costs)\n",
    "\n",
    "    # Obtener la ruta más corta y el costo\n",
    "    path = []\n",
    "    current_node = end\n",
    "\n",
    "    while current_node is not None:\n",
    "        path.insert(0, current_node)\n",
    "        if current_node in parents:\n",
    "            current_node = parents[current_node]\n",
    "        else:\n",
    "            break  # Salir del bucle si no hay padre asignado\n",
    "\n",
    "    if path and path[0] == start:\n",
    "        print(\"Ruta más corta:\", path)\n",
    "        print(\"Costo:\", costs[end])\n",
    "    else:\n",
    "        print(f\"No hay ruta desde {start} a {end}.\")"
   ]
  },
  {
   "cell_type": "code",
   "execution_count": 21,
   "id": "2b9e3c3c",
   "metadata": {},
   "outputs": [
    {
     "name": "stdout",
     "output_type": "stream",
     "text": [
      "Iteración:\n",
      "Parents: {0: None, 1: None, 2: 0, 3: None, 4: 0, 5: None, 6: None, 7: None}\n",
      "Costs: {0: 0, 1: inf, 2: 0.26, 3: inf, 4: 0.38, 5: inf, 6: inf, 7: inf}\n",
      "-------------------\n",
      "Iteración:\n",
      "Parents: {0: None, 1: None, 2: 0, 3: None, 4: 0, 5: None, 6: None, 7: 2}\n",
      "Costs: {0: 0, 1: inf, 2: 0.26, 3: inf, 4: 0.38, 5: inf, 6: inf, 7: 0.6000000000000001}\n",
      "-------------------\n",
      "Iteración:\n",
      "Parents: {0: None, 1: None, 2: 0, 3: None, 4: 0, 5: 4, 6: None, 7: 2}\n",
      "Costs: {0: 0, 1: inf, 2: 0.26, 3: inf, 4: 0.38, 5: 0.73, 6: inf, 7: 0.6000000000000001}\n",
      "-------------------\n",
      "Iteración:\n",
      "Parents: {0: None, 1: None, 2: 0, 3: 7, 4: 0, 5: 4, 6: None, 7: 2}\n",
      "Costs: {0: 0, 1: inf, 2: 0.26, 3: 0.9900000000000001, 4: 0.38, 5: 0.73, 6: inf, 7: 0.6000000000000001}\n",
      "-------------------\n",
      "Iteración:\n",
      "Parents: {0: None, 1: 5, 2: 0, 3: 7, 4: 0, 5: 4, 6: None, 7: 2}\n",
      "Costs: {0: 0, 1: 1.05, 2: 0.26, 3: 0.9900000000000001, 4: 0.38, 5: 0.73, 6: inf, 7: 0.6000000000000001}\n",
      "-------------------\n",
      "Iteración:\n",
      "Parents: {0: None, 1: 5, 2: 0, 3: 7, 4: 0, 5: 4, 6: 3, 7: 2}\n",
      "Costs: {0: 0, 1: 1.05, 2: 0.26, 3: 0.9900000000000001, 4: 0.38, 5: 0.73, 6: 1.5100000000000002, 7: 0.6000000000000001}\n",
      "-------------------\n",
      "Iteración:\n",
      "Parents: {0: None, 1: 5, 2: 0, 3: 7, 4: 0, 5: 4, 6: 3, 7: 2}\n",
      "Costs: {0: 0, 1: 1.05, 2: 0.26, 3: 0.9900000000000001, 4: 0.38, 5: 0.73, 6: 1.5100000000000002, 7: 0.6000000000000001}\n",
      "-------------------\n",
      "Iteración:\n",
      "Parents: {0: None, 1: 5, 2: 0, 3: 7, 4: 0, 5: 4, 6: 3, 7: 2}\n",
      "Costs: {0: 0, 1: 1.05, 2: 0.26, 3: 0.9900000000000001, 4: 0.38, 5: 0.73, 6: 1.5100000000000002, 7: 0.6000000000000001}\n",
      "-------------------\n",
      "Ruta más corta: [0, 2, 7, 3, 6]\n",
      "Costo: 1.5100000000000002\n"
     ]
    }
   ],
   "source": [
    "ruta_barata(graph2,0,6)"
   ]
  },
  {
   "cell_type": "code",
   "execution_count": null,
   "id": "4353fe3c",
   "metadata": {},
   "outputs": [],
   "source": []
  }
 ],
 "metadata": {
  "kernelspec": {
   "display_name": "Python 3 (ipykernel)",
   "language": "python",
   "name": "python3"
  },
  "language_info": {
   "codemirror_mode": {
    "name": "ipython",
    "version": 3
   },
   "file_extension": ".py",
   "mimetype": "text/x-python",
   "name": "python",
   "nbconvert_exporter": "python",
   "pygments_lexer": "ipython3",
   "version": "3.11.5"
  }
 },
 "nbformat": 4,
 "nbformat_minor": 5
}
