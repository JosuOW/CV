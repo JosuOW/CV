{
 "cells": [
  {
   "cell_type": "markdown",
   "id": "fcf9a07d-01ee-4758-8185-5a488cede387",
   "metadata": {},
   "source": [
    "# Algoritmos de pattern matching "
   ]
  },
  {
   "cell_type": "markdown",
   "id": "6598fdf2-4140-4fee-bae1-849a05c5cb0f",
   "metadata": {},
   "source": [
    "## Algoritmo Boyer-Moore"
   ]
  },
  {
   "cell_type": "code",
   "execution_count": 8,
   "id": "2c7ec420-82c9-4fa1-b6cc-43ab5795a63f",
   "metadata": {
    "tags": []
   },
   "outputs": [],
   "source": [
    "def fin_boyer_moore(T,P):\n",
    "    n, m = len(T), len(P)\n",
    "    \n",
    "    if m == 0:\n",
    "        return 0\n",
    "    last={}\n",
    "    \n",
    "    for k in range(m):\n",
    "        last[P[k]] = k\n",
    "    \n",
    "    print('Last =', last) # Imprime arreglo Last\n",
    "    i = m-1\n",
    "    k = m-1\n",
    "    \n",
    "    while i < n:\n",
    "        if T[i] == P[k]:\n",
    "            if k == 0:\n",
    "                return i #Hay un match completo y empieza en el índice i\n",
    "            else:\n",
    "                i-=1\n",
    "                k-=1\n",
    "        else:\n",
    "            j = last.get(T[i],-1)\n",
    "            i+= m-min(k,j+1)\n",
    "            k=m-1\n",
    "    return -1\n",
    "        "
   ]
  },
  {
   "cell_type": "markdown",
   "id": "3b1dec0b-57f5-4096-8de2-c2cddf9f73e9",
   "metadata": {},
   "source": [
    "### Ejercicios\n",
    "    "
   ]
  },
  {
   "cell_type": "code",
   "execution_count": 10,
   "id": "a51ac9f7-baef-43a6-b069-599a464792d2",
   "metadata": {
    "tags": []
   },
   "outputs": [
    {
     "name": "stdout",
     "output_type": "stream",
     "text": [
      "Last = {'a': 3, 'b': 5, 'c': 2}\n"
     ]
    },
    {
     "data": {
      "text/plain": [
       "10"
      ]
     },
     "execution_count": 10,
     "metadata": {},
     "output_type": "execute_result"
    }
   ],
   "source": [
    "T=\"aaabbfdasdabcabbswabcadefgf\"\n",
    "P=\"abcabb\"\n",
    "fin_boyer_moore(T,P)"
   ]
  },
  {
   "cell_type": "code",
   "execution_count": 11,
   "id": "4b08ed5f-9d40-4444-8e25-88657d6da6d7",
   "metadata": {
    "tags": []
   },
   "outputs": [
    {
     "name": "stdout",
     "output_type": "stream",
     "text": [
      "Last = {'1': 4, '0': 5}\n"
     ]
    },
    {
     "data": {
      "text/plain": [
       "6"
      ]
     },
     "execution_count": 11,
     "metadata": {},
     "output_type": "execute_result"
    }
   ],
   "source": [
    "T=\"10001110101010111101010110101010\"\n",
    "P=\"101010\"\n",
    "fin_boyer_moore(T,P)"
   ]
  },
  {
   "cell_type": "code",
   "execution_count": 14,
   "id": "cf48553e-0b17-4bb2-8cd9-0a98a727af3c",
   "metadata": {
    "tags": []
   },
   "outputs": [
    {
     "name": "stdout",
     "output_type": "stream",
     "text": [
      "Last = {'f': 0, 'e': 1, 'd': 2, 'c': 3}\n"
     ]
    },
    {
     "data": {
      "text/plain": [
       "-1"
      ]
     },
     "execution_count": 14,
     "metadata": {},
     "output_type": "execute_result"
    }
   ],
   "source": [
    "T=\"dcefaefbceeeddacfff\"\n",
    "P=\"fedc\"\n",
    "fin_boyer_moore(T,P)"
   ]
  },
  {
   "cell_type": "markdown",
   "id": "4b0371ea-0c9a-4c2f-8bd7-33a19e048650",
   "metadata": {
    "tags": []
   },
   "source": [
    "### Boyer-Moore devuelve posiciones en las que se encuentra el patrón"
   ]
  },
  {
   "cell_type": "code",
   "execution_count": 2,
   "id": "d1f9ea32-c8a8-410a-93dc-80cdb391f52e",
   "metadata": {
    "tags": []
   },
   "outputs": [],
   "source": [
    "def fin_boyer_moore2(T, P):\n",
    "    n, m = len(T), len(P)\n",
    "    posiciones = []  # Arreglo para almacenar las posiciones iniciales de coincidencias completas\n",
    "    \n",
    "    if m == 0:\n",
    "        return 0\n",
    "\n",
    "    last = {}\n",
    "    \n",
    "    for k in range(m):\n",
    "        last[P[k]] = k\n",
    "    \n",
    "    print('Last =', last)  # Imprime el diccionario last\n",
    "    \n",
    "    i = m - 1\n",
    "    k = m - 1\n",
    "    \n",
    "    while i < n:\n",
    "        if T[i] == P[k]:\n",
    "            if k == 0:\n",
    "                posiciones.append(i)  # Almacena la posición de coincidencia completa\n",
    "            else:\n",
    "                i -= 1\n",
    "                k -= 1\n",
    "        else:\n",
    "            j = last.get(T[i], -1)\n",
    "            i += m - min(k, j + 1)\n",
    "            k = m - 1\n",
    "    \n",
    "    if posiciones:\n",
    "        print('\\nÍndice/s en el que se encuentra el patrón:', posiciones)\n",
    "    else:\n",
    "        print('\\nPatrón no se encuentra en el texto')"
   ]
  },
  {
   "cell_type": "code",
   "execution_count": null,
   "id": "eec53bc2-1c31-42df-87a8-e7e0009b1de8",
   "metadata": {
    "tags": []
   },
   "outputs": [
    {
     "name": "stdout",
     "output_type": "stream",
     "text": [
      "Last = {'a': 3, 'b': 5, 'c': 2}\n"
     ]
    }
   ],
   "source": [
    "T=\"aaabbfdasdabcabbswabcadefgf\"\n",
    "P=\"abcabb\"\n",
    "fin_boyer_moore2(T,P)"
   ]
  },
  {
   "cell_type": "code",
   "execution_count": null,
   "id": "e4211e6e-c8c7-4da0-a5c5-30d79d3ad275",
   "metadata": {
    "tags": []
   },
   "outputs": [
    {
     "name": "stdout",
     "output_type": "stream",
     "text": [
      "Last = {'a': 0, 'b': 1, 'c': 2}\n"
     ]
    }
   ],
   "source": [
    "# Ejemplo de uso:\n",
    "texto = \"ababcababcabc\"\n",
    "patron = \"abc\"\n",
    "fin_boyer_moore2(texto, patron)\n"
   ]
  },
  {
   "cell_type": "code",
   "execution_count": 2,
   "id": "54684e88-13b6-4c38-9e18-01a1413fc799",
   "metadata": {},
   "outputs": [
    {
     "ename": "NameError",
     "evalue": "name 'fin_boyer_moore2' is not defined",
     "output_type": "error",
     "traceback": [
      "\u001b[0;31m---------------------------------------------------------------------------\u001b[0m",
      "\u001b[0;31mNameError\u001b[0m                                 Traceback (most recent call last)",
      "Cell \u001b[0;32mIn[2], line 4\u001b[0m\n\u001b[1;32m      2\u001b[0m texto \u001b[38;5;241m=\u001b[39m \u001b[38;5;124m\"\u001b[39m\u001b[38;5;124mababcababcabc\u001b[39m\u001b[38;5;124m\"\u001b[39m\n\u001b[1;32m      3\u001b[0m patron \u001b[38;5;241m=\u001b[39m \u001b[38;5;124m\"\u001b[39m\u001b[38;5;124mabc\u001b[39m\u001b[38;5;124m\"\u001b[39m\n\u001b[0;32m----> 4\u001b[0m fin_boyer_moore2(texto, patron)\n",
      "\u001b[0;31mNameError\u001b[0m: name 'fin_boyer_moore2' is not defined"
     ]
    }
   ],
   "source": [
    "# Ejemplo de uso:\n",
    "texto = \"ababcababcabc\"\n",
    "patron = \"abc\"\n",
    "fin_boyer_moore2(texto, patron)\n"
   ]
  },
  {
   "cell_type": "code",
   "execution_count": null,
   "id": "9fb50ccd-70e7-40a9-878f-e161e16d1317",
   "metadata": {},
   "outputs": [],
   "source": []
  }
 ],
 "metadata": {
  "kernelspec": {
   "display_name": "Python 3 (ipykernel)",
   "language": "python",
   "name": "python3"
  },
  "language_info": {
   "codemirror_mode": {
    "name": "ipython",
    "version": 3
   },
   "file_extension": ".py",
   "mimetype": "text/x-python",
   "name": "python",
   "nbconvert_exporter": "python",
   "pygments_lexer": "ipython3",
   "version": "3.11.5"
  }
 },
 "nbformat": 4,
 "nbformat_minor": 5
}
