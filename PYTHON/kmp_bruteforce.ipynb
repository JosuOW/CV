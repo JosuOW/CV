{
 "cells": [
  {
   "cell_type": "markdown",
   "id": "afdf7050-fd0d-426a-97fa-40812764603a",
   "metadata": {},
   "source": [
    "# Algoritmos de pattern matching "
   ]
  },
  {
   "cell_type": "markdown",
   "id": "edbe52d3-f117-44bf-b19a-bf7783ecd835",
   "metadata": {},
   "source": [
    "## Algoritmo Fuerza Bruta"
   ]
  },
  {
   "cell_type": "code",
   "execution_count": 1,
   "id": "ed4d73a6-a78d-453e-aa5f-3b599268e4bb",
   "metadata": {
    "tags": []
   },
   "outputs": [],
   "source": [
    "def brute_force(text,pattern):\n",
    "    #Controlar el tamañp del texto y del patrón\n",
    "    l1=len(text) \n",
    "    l2=len(pattern)\n",
    "    \n",
    "    i=0\n",
    "    flag=False\n",
    "    while i < l1:\n",
    "        j=0\n",
    "        count =0\n",
    "        while j < l2:\n",
    "            if i+j < l1 and text[i+j] == pattern [j]: #si ocurre un match\n",
    "                count += 1  #aumenta si existe coincidencia\n",
    "            else:\n",
    "                break\n",
    "            j += 1\n",
    "        if count == l2: #match completo\n",
    "            print(\"\\n Pattern occuers at index\", i)\n",
    "            flag= True\n",
    "        i += 1\n",
    "    if not flag:\n",
    "        print('\\nPattern is not at all present in the array')"
   ]
  },
  {
   "cell_type": "markdown",
   "id": "1d96894a-0073-498a-8705-ebd5d9dedd01",
   "metadata": {},
   "source": [
    "## Ejercicios"
   ]
  },
  {
   "cell_type": "markdown",
   "id": "3af332c4-2349-4d8e-8538-d76953eabb56",
   "metadata": {},
   "source": [
    "### a) T = \"ABDDCCABBCAABABCA\", P = \"AB\""
   ]
  },
  {
   "cell_type": "code",
   "execution_count": 2,
   "id": "e6dfd82e-ff0f-4e3e-9246-bff69bebc7c1",
   "metadata": {
    "tags": []
   },
   "outputs": [
    {
     "name": "stdout",
     "output_type": "stream",
     "text": [
      "\n",
      " Pattern occuers at index 0\n",
      "\n",
      " Pattern occuers at index 6\n",
      "\n",
      " Pattern occuers at index 11\n",
      "\n",
      " Pattern occuers at index 13\n"
     ]
    }
   ],
   "source": [
    "brute_force('ABDDCCABBCAABABCA','AB')"
   ]
  },
  {
   "cell_type": "markdown",
   "id": "f93a6097-5bf3-4d4f-8ee5-4267210bae18",
   "metadata": {},
   "source": [
    "### b) T = \"ABDDCCABBCAABABCA\", P = \"AAB\""
   ]
  },
  {
   "cell_type": "code",
   "execution_count": 3,
   "id": "c658f3e4-8ab7-484e-b429-38a31524ae85",
   "metadata": {
    "tags": []
   },
   "outputs": [
    {
     "name": "stdout",
     "output_type": "stream",
     "text": [
      "\n",
      " Pattern occuers at index 10\n"
     ]
    }
   ],
   "source": [
    "brute_force('ABDDCCABBCAABABCA','AAB') "
   ]
  },
  {
   "cell_type": "markdown",
   "id": "e8dbaf37-d30c-49ec-84e5-5ab5070d7159",
   "metadata": {},
   "source": [
    "### c) T = \"ABDDCCABBCAABABCA\", P = \"ABC\""
   ]
  },
  {
   "cell_type": "code",
   "execution_count": 4,
   "id": "cc4dccf5-6184-44c4-b00e-4d7a9b358f09",
   "metadata": {
    "tags": []
   },
   "outputs": [
    {
     "name": "stdout",
     "output_type": "stream",
     "text": [
      "\n",
      " Pattern occuers at index 13\n"
     ]
    }
   ],
   "source": [
    " T = \"ABDDCCABBCAABABCA\"\n",
    "P = \"ABC\"\n",
    "brute_force(T,P)"
   ]
  },
  {
   "cell_type": "markdown",
   "id": "c2d0598a-b0fa-425e-86b0-382102182904",
   "metadata": {},
   "source": [
    "## Algoritmo Knuth-Morris-Pratt "
   ]
  },
  {
   "cell_type": "markdown",
   "id": "9d4ba2f1-cbb2-4d65-b324-7c2e7e0ba0ac",
   "metadata": {},
   "source": [
    "### Función failure"
   ]
  },
  {
   "cell_type": "code",
   "execution_count": 5,
   "id": "100ff27b-5193-4a1e-a8ce-a3be28e8adf8",
   "metadata": {
    "tags": []
   },
   "outputs": [],
   "source": [
    "def failure_fun(P):\n",
    "    \n",
    "    m=len(P) #tamaño del Patrón\n",
    "    valor_f = [0]*(m) \n",
    "    \n",
    "    k = 0\n",
    "    j = 1\n",
    "    \n",
    "    while j < m:\n",
    "        if P[j] == P[k]:\n",
    "            valor_f[j] = k+1 #si hay coincidencia\n",
    "            #Avanza caractér a comparar\n",
    "            j += 1 \n",
    "            k += 1\n",
    "            \n",
    "        elif k > 0:              #k es mayor que 0 si antes hubo match\n",
    "            k = valor_f[k-1]\n",
    "        \n",
    "        else:   #no hay match con el elemento en posición j\n",
    "            j += 1\n",
    "    return valor_f"
   ]
  },
  {
   "cell_type": "markdown",
   "id": "4c96de87-5be4-4949-bf9e-a4aeeb5f5f1c",
   "metadata": {},
   "source": [
    "### Algoritmo Knuth-Morris-Pratt "
   ]
  },
  {
   "cell_type": "code",
   "execution_count": 20,
   "id": "dcc7d2eb-4a42-440a-9cd5-7dbf22a07533",
   "metadata": {
    "tags": []
   },
   "outputs": [],
   "source": [
    "def find_kmp(T,P):\n",
    "    n, m=len(T), len(P)\n",
    "    \n",
    "    if m==0:\n",
    "        return 0 #búsqueda de un strig vacío\n",
    "    \n",
    "    result_failure = failure_fun(P) \n",
    "    print('f(k)=', result_failure)\n",
    "    \n",
    "    j=0\n",
    "    k=0\n",
    "    \n",
    "    while j < n:\n",
    "        if T[j] == P[k]:\n",
    "            if k == m-1: #verifica coincidencia completa\n",
    "                return j-m+1 #return posición de coincidencia completa\n",
    "            j += 1 #si hay coincidencia, ambos, j y k avanzan\n",
    "            k += 1\n",
    "        elif k > 0:\n",
    "            k =result_failure[k-1] #resetear el valor de k para comenzar otra búsqueda\n",
    "        else:\n",
    "            j += 1\n",
    "    return -1"
   ]
  },
  {
   "cell_type": "markdown",
   "id": "28397e2e-2047-4978-ada6-d1b858326499",
   "metadata": {},
   "source": [
    "### Ejercicios"
   ]
  },
  {
   "cell_type": "code",
   "execution_count": 11,
   "id": "b2d83036-5ed4-4fe0-a728-c2e8c735b7e8",
   "metadata": {
    "tags": []
   },
   "outputs": [
    {
     "name": "stdout",
     "output_type": "stream",
     "text": [
      "f(k)= [0, 0, 0, 1, 2, 0]\n"
     ]
    },
    {
     "data": {
      "text/plain": [
       "0"
      ]
     },
     "execution_count": 11,
     "metadata": {},
     "output_type": "execute_result"
    }
   ],
   "source": [
    "T=\"abcabbaaabbfdasdabcabbsw\"\n",
    "P=\"abcabb\"\n",
    "find_kmp(T,P)"
   ]
  },
  {
   "cell_type": "code",
   "execution_count": 21,
   "id": "3adca2f1-d777-48c9-8bcb-b8125d64e3bb",
   "metadata": {
    "tags": []
   },
   "outputs": [
    {
     "name": "stdout",
     "output_type": "stream",
     "text": [
      "f(k)= [0, 0, 1, 2, 3, 4]\n"
     ]
    },
    {
     "data": {
      "text/plain": [
       "6"
      ]
     },
     "execution_count": 21,
     "metadata": {},
     "output_type": "execute_result"
    }
   ],
   "source": [
    "T=\"10001110101010111101010110101010\"\n",
    "P=\"101010\"\n",
    "find_kmp(T,P)"
   ]
  },
  {
   "cell_type": "markdown",
   "id": "a4c13172-192d-45f8-8e8c-ac3e3f4b36c1",
   "metadata": {},
   "source": [
    "### KMP devuelve posiciones en las que se encuentra el patrón"
   ]
  },
  {
   "cell_type": "code",
   "execution_count": 24,
   "id": "1b41d366-0723-4e79-8f98-d76f6661e1ba",
   "metadata": {
    "tags": []
   },
   "outputs": [],
   "source": [
    "def find_kmp2(T, P):\n",
    "    n, m = len(T), len(P)\n",
    "    \n",
    "    if m == 0:\n",
    "        return 0  # Búsqueda de un string vacío\n",
    "    \n",
    "    result_failure = failure_fun(P)\n",
    "    print('f(k)=', result_failure)\n",
    "    \n",
    "    j = 0\n",
    "    k = 0\n",
    "    posiciones = []  # Arreglo para almacenar las posiciones iniciales de coincidencias completas\n",
    "\n",
    "    while j < n:\n",
    "        if T[j] == P[k]:\n",
    "            if k == m - 1:\n",
    "                posiciones.append(j - m + 1)  # Almacena la posición de coincidencia completa\n",
    "                k = 0  # Reinicia k para buscar más ocurrencias\n",
    "            j += 1\n",
    "            k += 1\n",
    "        elif k > 0:\n",
    "            k = result_failure[k - 1]\n",
    "        else:\n",
    "            j += 1\n",
    "\n",
    "    if posiciones:\n",
    "        return posiciones  # Devuelve el arreglo de posiciones\n",
    "    else:\n",
    "        return -1  # Retorna -1 si no se encuentra ninguna coincidencia\n",
    "\n",
    "\n"
   ]
  },
  {
   "cell_type": "markdown",
   "id": "4fe08ab4-7b11-4964-9450-4b8f483cd917",
   "metadata": {},
   "source": [
    "### Ejercicios"
   ]
  },
  {
   "cell_type": "code",
   "execution_count": 25,
   "id": "778770fe-3584-48d2-9d3f-4ee63b8b2b0c",
   "metadata": {
    "tags": []
   },
   "outputs": [
    {
     "name": "stdout",
     "output_type": "stream",
     "text": [
      "f(k)= [0, 0, 0, 1, 2, 0]\n"
     ]
    },
    {
     "data": {
      "text/plain": [
       "[0, 16]"
      ]
     },
     "execution_count": 25,
     "metadata": {},
     "output_type": "execute_result"
    }
   ],
   "source": [
    "T=\"abcabbaaabbfdasdabcabbsw\"\n",
    "P=\"abcabb\"\n",
    "find_kmp2(T,P)"
   ]
  },
  {
   "cell_type": "code",
   "execution_count": 19,
   "id": "ec934478-8d53-466f-816b-2635b30f80a6",
   "metadata": {
    "tags": []
   },
   "outputs": [
    {
     "name": "stdout",
     "output_type": "stream",
     "text": [
      "f8k)= [0, 0, 1, 2, 3, 4]\n"
     ]
    },
    {
     "data": {
      "text/plain": [
       "[6, 17, 24]"
      ]
     },
     "execution_count": 19,
     "metadata": {},
     "output_type": "execute_result"
    }
   ],
   "source": [
    "T=\"10001110101010111101010110101010\"\n",
    "P=\"101010\"\n",
    "find_kmp(T,P)"
   ]
  },
  {
   "cell_type": "code",
   "execution_count": null,
   "id": "39febe84-49da-45a5-a386-6a9c97956ebf",
   "metadata": {},
   "outputs": [],
   "source": []
  }
 ],
 "metadata": {
  "kernelspec": {
   "display_name": "Python 3 (ipykernel)",
   "language": "python",
   "name": "python3"
  },
  "language_info": {
   "codemirror_mode": {
    "name": "ipython",
    "version": 3
   },
   "file_extension": ".py",
   "mimetype": "text/x-python",
   "name": "python",
   "nbconvert_exporter": "python",
   "pygments_lexer": "ipython3",
   "version": "3.11.5"
  }
 },
 "nbformat": 4,
 "nbformat_minor": 5
}
