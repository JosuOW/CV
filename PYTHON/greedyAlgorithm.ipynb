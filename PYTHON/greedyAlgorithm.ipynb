{
 "cells": [
  {
   "cell_type": "markdown",
   "id": "8ecee2db-9d5d-4ef8-809a-df5eac32cff6",
   "metadata": {},
   "source": [
    "# ALGORITMOS CODICIOSOS"
   ]
  },
  {
   "cell_type": "markdown",
   "id": "dbc71323-2f03-4258-8ef8-64c15f5c2e9d",
   "metadata": {},
   "source": [
    "## Calendarización de Intervalos"
   ]
  },
  {
   "cell_type": "code",
   "execution_count": 5,
   "id": "bc13ed71-09ae-40d9-929b-19621b64c86d",
   "metadata": {
    "tags": []
   },
   "outputs": [
    {
     "name": "stdout",
     "output_type": "stream",
     "text": [
      "Conjunto de solicitudes aceptadas:\n",
      "Solicitud 1 - Tiempo de inicio: 0, Tiempo de finalización: 2\n",
      "Solicitud 3 - Tiempo de inicio: 2, Tiempo de finalización: 3\n",
      "Solicitud 4 - Tiempo de inicio: 3, Tiempo de finalización: 6\n",
      "Solicitud 6 - Tiempo de inicio: 6, Tiempo de finalización: 8\n"
     ]
    }
   ],
   "source": [
    "def choose_request_with_smallest_finishing_time(requests):\n",
    "    # Encuentra la solicitud con el tiempo de finalización más pequeño\n",
    "    min_finishing_time = float('inf')\n",
    "    selected_request = None\n",
    "\n",
    "    for request in requests:\n",
    "        if request['finishing_time'] < min_finishing_time:\n",
    "            min_finishing_time = request['finishing_time']\n",
    "            selected_request = request\n",
    "\n",
    "    return selected_request\n",
    "\n",
    "def process_requests(requests):\n",
    "    accepted_requests = []  # Conjunto de solicitudes aceptadas\n",
    "    remaining_requests = requests.copy()  # Conjunto de solicitudes aún no aceptadas ni rechazadas\n",
    "\n",
    "    while remaining_requests:\n",
    "        chosen_request = choose_request_with_smallest_finishing_time(remaining_requests)\n",
    "\n",
    "        if chosen_request is not None:\n",
    "            accepted_requests.append(chosen_request)\n",
    "            remaining_requests = [request for request in remaining_requests if request != chosen_request]\n",
    "\n",
    "            # Elimina las solicitudes incompatibles con la solicitud elegida\n",
    "            remaining_requests = [request for request in remaining_requests if request['starting_time'] >= chosen_request['finishing_time']]\n",
    "\n",
    "    return accepted_requests\n",
    "\n",
    "# Ejemplo de uso:\n",
    "if __name__ == \"__main__\":\n",
    "    # Definir el conjunto de solicitudes con sus tiempos de inicio y finalización\n",
    "    all_requests = [\n",
    "        {'id': 1, 'starting_time': 0, 'finishing_time': 2},\n",
    "        {'id': 2, 'starting_time': 1, 'finishing_time': 4},\n",
    "        {'id': 3, 'starting_time': 2, 'finishing_time': 3},\n",
    "        {'id': 4, 'starting_time': 3, 'finishing_time': 6},\n",
    "        {'id': 5, 'starting_time': 4, 'finishing_time': 7},\n",
    "        {'id': 6, 'starting_time': 6, 'finishing_time': 8},\n",
    "        # Agregar más solicitudes según sea necesario\n",
    "    ]\n",
    "\n",
    "    accepted_requests = process_requests(all_requests)\n",
    "\n",
    "    # Mostrar las solicitudes aceptadas\n",
    "    print(\"Conjunto de solicitudes aceptadas:\")\n",
    "    for request in accepted_requests:\n",
    "        print(f\"Solicitud {request['id']} - Tiempo de inicio: {request['starting_time']}, Tiempo de finalización: {request['finishing_time']}\")\n"
   ]
  },
  {
   "cell_type": "markdown",
   "id": "3a23df2c-35ec-4694-bf21-5a18823b015e",
   "metadata": {},
   "source": [
    "## Ladrón codicioso "
   ]
  },
  {
   "cell_type": "code",
   "execution_count": 11,
   "id": "8d0df7bf-9653-4696-96c2-82ae798b9482",
   "metadata": {
    "tags": []
   },
   "outputs": [
    {
     "name": "stdout",
     "output_type": "stream",
     "text": [
      "Valor máximo en la mochila: $2120\n",
      "Artículos seleccionados: ['Billetera', 'Collar', 'Anillo']\n"
     ]
    }
   ],
   "source": [
    "def knapsack(items, weights, values, capacity):\n",
    "    n = len(weights)\n",
    "    # Inicializa una tabla para almacenar los resultados intermedios\n",
    "    dp = [[0] * (capacity + 1) for _ in range(n + 1)]\n",
    "\n",
    "    # Rellena la tabla utilizando programación dinámica\n",
    "    for i in range(1, n + 1):\n",
    "        for w in range(capacity + 1):\n",
    "            if weights[i - 1] <= w:\n",
    "                dp[i][w] = max(values[i - 1] + dp[i - 1][w - weights[i - 1]], dp[i - 1][w])\n",
    "            else:\n",
    "                dp[i][w] = dp[i - 1][w]\n",
    "\n",
    "    # Reconstruye la solución\n",
    "    selected_items = []\n",
    "    i, j = n, capacity\n",
    "    while i > 0 and j > 0:\n",
    "        if dp[i][j] != dp[i - 1][j]:\n",
    "            selected_items.append(items[i - 1])\n",
    "            j -= weights[i - 1]\n",
    "        i -= 1\n",
    "\n",
    "    return dp[n][capacity], selected_items\n",
    "\n",
    "# Ejemplo de uso:\n",
    "if __name__ == \"__main__\":\n",
    "    item_names = [\"Celular\", \"Computadora\", \"Anillo\", \"Collar\", \"Billetera\"]\n",
    "    weights = [5, 10, 3, 8, 2]\n",
    "    values = [500, 780, 600, 1200, 320]\n",
    "    capacity = 15\n",
    "\n",
    "    max_value, selected_items = knapsack(item_names, weights, values, capacity)\n",
    "\n",
    "    print(f\"Valor máximo en la mochila: ${max_value}\")\n",
    "    print(\"Artículos seleccionados:\", selected_items)\n"
   ]
  },
  {
   "cell_type": "markdown",
   "id": "126ebfa5-49f0-4bb9-8082-b1fec423e028",
   "metadata": {},
   "source": [
    "## Estaciones de radio y cobertura de estados"
   ]
  },
  {
   "cell_type": "code",
   "execution_count": 12,
   "id": "217dbf84-85f7-4a3b-b1e1-33305467a8ab",
   "metadata": {
    "tags": []
   },
   "outputs": [
    {
     "name": "stdout",
     "output_type": "stream",
     "text": [
      "Estaciones seleccionadas: {'stationthree', 'stationone', 'stationtwo', 'stationfive'}\n"
     ]
    }
   ],
   "source": [
    "states_needed = set([\"mt\", \"wa\", \"or\", \"id\", \"nv\", \"ut\", \"ca\", \"az\"])\n",
    "\n",
    "stations = {\n",
    "    \"stationone\": set([\"id\", \"nv\", \"ut\"]),\n",
    "    \"stationtwo\": set([\"wa\", \"id\", \"mt\"]),\n",
    "    \"stationthree\": set([\"or\", \"nv\", \"ca\"]),\n",
    "    \"stationfour\": set([\"nv\", \"ut\"]),\n",
    "    \"stationfive\": set([\"ca\", \"az\"]),\n",
    "    \"stationsix\": set([\"ca\", \"nv\", \"ut\"])\n",
    "}\n",
    "\n",
    "final_stations = set()\n",
    "\n",
    "while states_needed:\n",
    "    best_station = None\n",
    "    states_covered = set()\n",
    "\n",
    "    for station, states_for_station in stations.items():\n",
    "        covered = states_needed & states_for_station\n",
    "        if len(covered) > len(states_covered):\n",
    "            best_station = station\n",
    "            states_covered = covered\n",
    "\n",
    "    final_stations.add(best_station)\n",
    "    states_needed -= states_covered\n",
    "\n",
    "print(\"Estaciones seleccionadas:\", final_stations)\n"
   ]
  },
  {
   "cell_type": "markdown",
   "id": "3e8bfcb8-109b-428a-af02-b00b5c9a20b8",
   "metadata": {},
   "source": [
    "## Jugadores de fútbol y cobertura de habilidades"
   ]
  },
  {
   "cell_type": "code",
   "execution_count": 6,
   "id": "6df2ba6b-5e79-44c7-8b89-1477f60e9da2",
   "metadata": {
    "tags": []
   },
   "outputs": [
    {
     "name": "stdout",
     "output_type": "stream",
     "text": [
      "Jugadores seleccionados: {'Javier', 'Ximena', 'Aiden', 'Ariana'}\n"
     ]
    }
   ],
   "source": [
    "skills_needed = set([\"defensaizq\", \"defensader\", \"delantero\", \"velocidad\", \n",
    "                     \"fuerza\", \"resistencia\", \"lateral\", \"arquero\"])\n",
    "\n",
    "players = {\n",
    "    \"Javier\": set([\"defensaizq\", \"delantero\", \"velocidad\", \"resistencia\"]),\n",
    "    \"Fabiola\": set([\"defensader\"]),\n",
    "    \"Sofia\": set([\"velocidad\", \"delantero\", \"fuerza\", \"resistencia\"]),\n",
    "    \"Ximena\": set([\"fuerza\", \"defensader\", \"delantero\"]),\n",
    "    \"Ariana\": set([\"resistencia\", \"lateral\"]),\n",
    "    \"Richard\": set([\"velocidad\", \"fuerza\"]),\n",
    "    \"Eduardo\": set([\"defensaizq\", \"fuerza\"]),\n",
    "    \"Alejandro\": set([\"velocidad\"]),\n",
    "    \"Karina\": set([\"lateral\", \"defensader\", \"defensaizq\"]),\n",
    "    \"Derek\": set([\"defensaizq\", \"lateral\"]),\n",
    "    \"Aiden\": set([\"delantero\", \"defensaizq\", \"arquero\"]),\n",
    "    \"Madeline\": set([\"defensaizq\", \"velocidad\", \"delantero\"]),\n",
    "    \"Leo\": set([\"fuerza\", \"defensaizq\", \"arquero\"]),\n",
    "    \"Josue\": set([\"resistencia\", \"lateral\"])\n",
    "}\n",
    "\n",
    "final_players = set()\n",
    "\n",
    "while skills_needed:\n",
    "    best_player = None\n",
    "    skills_covered = set()\n",
    "\n",
    "    for player, skills_for_player in players.items():\n",
    "        covered = skills_needed & skills_for_player\n",
    "        if len(covered) > len(skills_covered):\n",
    "            best_player = player\n",
    "            skills_covered = covered\n",
    "\n",
    "    final_players.add(best_player)\n",
    "    skills_needed -= skills_covered\n",
    "\n",
    "print(\"Jugadores seleccionados:\", final_players)\n"
   ]
  },
  {
   "cell_type": "code",
   "execution_count": null,
   "id": "8b5c53fe-2549-4f57-a5ec-bba9a905e1ae",
   "metadata": {},
   "outputs": [],
   "source": []
  }
 ],
 "metadata": {
  "kernelspec": {
   "display_name": "Python 3 (ipykernel)",
   "language": "python",
   "name": "python3"
  },
  "language_info": {
   "codemirror_mode": {
    "name": "ipython",
    "version": 3
   },
   "file_extension": ".py",
   "mimetype": "text/x-python",
   "name": "python",
   "nbconvert_exporter": "python",
   "pygments_lexer": "ipython3",
   "version": "3.11.5"
  }
 },
 "nbformat": 4,
 "nbformat_minor": 5
}
