{
 "cells": [
  {
   "cell_type": "markdown",
   "id": "1645055b-6cd2-481c-9cb3-dcc8df2028e0",
   "metadata": {},
   "source": [
    "# DIVIDE AND CONQUER"
   ]
  },
  {
   "cell_type": "markdown",
   "id": "2630e83a-32f6-4d6d-a960-65e7dca6ce79",
   "metadata": {},
   "source": [
    "### Suma de los elementos de un arreglo (tamaño mínimo de 10)."
   ]
  },
  {
   "cell_type": "code",
   "execution_count": 10,
   "id": "6488a158-69fd-4a42-aeec-e8fd40054ead",
   "metadata": {
    "tags": []
   },
   "outputs": [],
   "source": [
    "def suma(lista):\n",
    "    if len(lista) == 0:\n",
    "        return 0\n",
    "    else:\n",
    "        nuevaL = lista[1:]\n",
    "        print('Sumando:'+ str(lista[0])+ '+'+ str(nuevaL) )\n",
    "        resultado = lista[0] + suma(nuevaL)\n",
    "        print('Suma:', str(resultado))\n",
    "        return resultado"
   ]
  },
  {
   "cell_type": "code",
   "execution_count": 13,
   "id": "4bafe0c1-4eee-4bcd-b4c1-48c64eb966ce",
   "metadata": {
    "tags": []
   },
   "outputs": [
    {
     "name": "stdout",
     "output_type": "stream",
     "text": [
      "Sumando:1+[3, 14, 5, 6, 7, 8, 9, 7, 11]\n",
      "Sumando:3+[14, 5, 6, 7, 8, 9, 7, 11]\n",
      "Sumando:14+[5, 6, 7, 8, 9, 7, 11]\n",
      "Sumando:5+[6, 7, 8, 9, 7, 11]\n",
      "Sumando:6+[7, 8, 9, 7, 11]\n",
      "Sumando:7+[8, 9, 7, 11]\n",
      "Sumando:8+[9, 7, 11]\n",
      "Sumando:9+[7, 11]\n",
      "Sumando:7+[11]\n",
      "Sumando:11+[]\n",
      "Suma: 11\n",
      "Suma: 18\n",
      "Suma: 27\n",
      "Suma: 35\n",
      "Suma: 42\n",
      "Suma: 48\n",
      "Suma: 53\n",
      "Suma: 67\n",
      "Suma: 70\n",
      "Suma: 71\n",
      "Resultado es:  71\n"
     ]
    }
   ],
   "source": [
    "print('Resultado es: ',suma([1, 3, 14, 5, 6, 7, 8, 9, 7, 11]))"
   ]
  },
  {
   "cell_type": "markdown",
   "id": "9e39c4f0-a59a-4ea3-9d79-fd69c887c11c",
   "metadata": {
    "tags": []
   },
   "source": [
    "## Función recursiva para contar los elementos de un arreglo."
   ]
  },
  {
   "cell_type": "code",
   "execution_count": 14,
   "id": "8d981f56-6388-4dd3-8b0c-179c95ceb6ec",
   "metadata": {
    "tags": []
   },
   "outputs": [],
   "source": [
    "def totalelementos(lista):\n",
    "    if len(lista) == 0:\n",
    "        return 0\n",
    "    else:\n",
    "        nuevaL = lista[1:]\n",
    "        resultado = 1 + totalelementos(nuevaL)\n",
    "        print('Total elementos:', str(resultado))\n",
    "        return resultado"
   ]
  },
  {
   "cell_type": "code",
   "execution_count": 16,
   "id": "f36aa7b0-3ade-4901-813d-095b0f93561e",
   "metadata": {
    "tags": []
   },
   "outputs": [
    {
     "name": "stdout",
     "output_type": "stream",
     "text": [
      "Total elementos: 1\n",
      "Total elementos: 2\n",
      "Total elementos: 3\n",
      "Total elementos: 4\n",
      "Total elementos: 5\n",
      "Total elementos: 6\n",
      "Total elementos: 7\n",
      "Total elementos: 8\n",
      "Total elementos: 9\n",
      "Total elementos: 10\n",
      "Total elementos: 11\n",
      "Total elementos: 12\n",
      "Total elementos: 13\n",
      "Elementos:  13\n"
     ]
    }
   ],
   "source": [
    "print('Elementos: ',totalelementos([1, 3, 14, 5, 6, 7, 8, 9, 7, 11, 2, 3, 7]))"
   ]
  },
  {
   "cell_type": "markdown",
   "id": "8c991a36-44e1-4d10-9101-ac75fbd5af0c",
   "metadata": {
    "tags": []
   },
   "source": [
    "## Búsqueda Binaria aplicando recursividad."
   ]
  },
  {
   "cell_type": "code",
   "execution_count": 30,
   "id": "1dcbfc0f-fe9b-4ae5-a3b1-904185c58fc8",
   "metadata": {
    "tags": []
   },
   "outputs": [
    {
     "name": "stdout",
     "output_type": "stream",
     "text": [
      "El elemento 7 se encuentra en la posición 6.\n"
     ]
    }
   ],
   "source": [
    "def busqueda_binaria_recursiva(arr, objetivo, inicio=0, fin=None):\n",
    "    # Si el rango no se especifica, utilizamos toda la lista\n",
    "    if fin is None:\n",
    "        fin = len(arr)\n",
    "\n",
    "    # Caso base: el elemento no está en la lista\n",
    "    if inicio >= fin:\n",
    "        return -1\n",
    "\n",
    "    # Encontramos el índice medio del rango actual\n",
    "    medio = (inicio + fin) // 2\n",
    "\n",
    "    # Comparamos el elemento en el índice medio con el objetivo\n",
    "    if arr[medio] == objetivo:\n",
    "        return medio  # Hemos encontrado el elemento, devolvemos su índice\n",
    "    elif arr[medio] < objetivo:\n",
    "        # El objetivo está en la mitad derecha, llamamos recursivamente con el nuevo rango\n",
    "        return busqueda_binaria_recursiva(arr, objetivo, medio + 1, fin)\n",
    "    else:\n",
    "        # El objetivo está en la mitad izquierda, llamamos recursivamente con el nuevo rango\n",
    "        return busqueda_binaria_recursiva(arr, objetivo, inicio, medio)\n",
    "\n",
    "# Ejemplo de uso\n",
    "lista_ordenada = [1, 2, 3, 4, 5, 6, 7, 8, 9, 10]\n",
    "elemento_a_buscar = 7\n",
    "resultado = busqueda_binaria_recursiva(lista_ordenada, elemento_a_buscar)\n",
    "\n",
    "if resultado != -1:\n",
    "    print(f\"El elemento {elemento_a_buscar} se encuentra en la posición {resultado}.\")\n",
    "else:\n",
    "    print(f\"El elemento {elemento_a_buscar} no se encuentra en la lista.\")\n"
   ]
  },
  {
   "cell_type": "code",
   "execution_count": null,
   "id": "49ef16dd-bfca-48fd-864e-19167264b056",
   "metadata": {},
   "outputs": [],
   "source": []
  },
  {
   "cell_type": "markdown",
   "id": "b4a5f297-9e11-4331-a3c3-ba10c88e9f83",
   "metadata": {
    "tags": []
   },
   "source": [
    "## Encontrar el número máximo en un arreglo."
   ]
  },
  {
   "cell_type": "code",
   "execution_count": 26,
   "id": "2215f3de-1783-4e69-b2d8-a57b0f3f756c",
   "metadata": {
    "tags": []
   },
   "outputs": [],
   "source": [
    "def num_max(lista):\n",
    "    if not lista:  # Verifica si la lista está vacía\n",
    "        return float('-inf')\n",
    "    else:\n",
    "        max_restante = num_max(lista[1:])\n",
    "        return max(lista[0], max_restante)\n"
   ]
  },
  {
   "cell_type": "code",
   "execution_count": 28,
   "id": "dbf53f9b-e4d4-4383-81c4-e23a5bd2db2b",
   "metadata": {
    "tags": []
   },
   "outputs": [
    {
     "name": "stdout",
     "output_type": "stream",
     "text": [
      "Número máximo:  20\n"
     ]
    }
   ],
   "source": [
    "print('Número máximo: ',num_max([1, 3, 14, 5, 6, 7, 8, 9, 7, 11, 20, 3, 7]))"
   ]
  },
  {
   "cell_type": "markdown",
   "id": "353efb9e-d1d5-4ca6-b153-0dfa2188e054",
   "metadata": {},
   "source": [
    "## Quicksort"
   ]
  },
  {
   "cell_type": "code",
   "execution_count": 30,
   "id": "97c666a0-8b1a-4a97-8f56-2da38782d1d1",
   "metadata": {
    "tags": []
   },
   "outputs": [],
   "source": [
    "def quicksort(array):\n",
    "    if len(array) < 2:\n",
    "        print ('quicksort base case', array)\n",
    "        print()\n",
    "        return array\n",
    "    else:\n",
    "        pivot = array[0]\n",
    "        less = [ i for i in array[1:] if i <= pivot]\n",
    "\n",
    "        greater = [ i for i in array[1:] if i > pivot]\n",
    "        print('quicksortL', less)\n",
    "        print('pivot ', pivot)\n",
    "        print('quicksortR', greater)\n",
    "        print()\n",
    "        \n",
    "        left = quicksort(less)\n",
    "        right=quicksort(greater)\n",
    "        pivot =[pivot]\n",
    "        \n",
    "        print('** retorno= ' +str(left) + '+' + str(pivot) + '+' + str(right))\n",
    "        print()\n",
    "        \n",
    "        return left+pivot+right\n",
    "    \n",
    "      "
   ]
  },
  {
   "cell_type": "code",
   "execution_count": 31,
   "id": "e8168eaa-fbf0-4acf-a550-8fa267765afe",
   "metadata": {
    "tags": []
   },
   "outputs": [
    {
     "name": "stdout",
     "output_type": "stream",
     "text": [
      "quicksortL [3, 2, 5]\n",
      "pivot  10\n",
      "quicksortR []\n",
      "\n",
      "quicksortL [2]\n",
      "pivot  3\n",
      "quicksortR [5]\n",
      "\n",
      "quicksort base case [2]\n",
      "\n",
      "quicksort base case [5]\n",
      "\n",
      "** retorno= [2]+[3]+[5]\n",
      "\n",
      "quicksort base case []\n",
      "\n",
      "** retorno= [2, 3, 5]+[10]+[]\n",
      "\n",
      "[2, 3, 5, 10]\n"
     ]
    }
   ],
   "source": [
    "print (quicksort([10,3,2,5]))"
   ]
  },
  {
   "cell_type": "code",
   "execution_count": null,
   "id": "20fcda9a-8862-4f07-9451-f78afb133696",
   "metadata": {},
   "outputs": [],
   "source": []
  }
 ],
 "metadata": {
  "kernelspec": {
   "display_name": "Python 3 (ipykernel)",
   "language": "python",
   "name": "python3"
  },
  "language_info": {
   "codemirror_mode": {
    "name": "ipython",
    "version": 3
   },
   "file_extension": ".py",
   "mimetype": "text/x-python",
   "name": "python",
   "nbconvert_exporter": "python",
   "pygments_lexer": "ipython3",
   "version": "3.11.5"
  }
 },
 "nbformat": 4,
 "nbformat_minor": 5
}
